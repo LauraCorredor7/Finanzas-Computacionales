{
  "nbformat": 4,
  "nbformat_minor": 0,
  "metadata": {
    "colab": {
      "provenance": [],
      "authorship_tag": "ABX9TyOccaHtFfTOsi13gyWX+CQi",
      "include_colab_link": true
    },
    "kernelspec": {
      "name": "python3",
      "display_name": "Python 3"
    },
    "language_info": {
      "name": "python"
    }
  },
  "cells": [
    {
      "cell_type": "markdown",
      "metadata": {
        "id": "view-in-github",
        "colab_type": "text"
      },
      "source": [
        "<a href=\"https://colab.research.google.com/github/LauraCorredor7/Finanzas-Computacionales/blob/main/Clase%2023Feb.ipynb\" target=\"_parent\"><img src=\"https://colab.research.google.com/assets/colab-badge.svg\" alt=\"Open In Colab\"/></a>"
      ]
    },
    {
      "cell_type": "code",
      "source": [
        "import pandas as pd\n",
        "import numpy as np"
      ],
      "metadata": {
        "id": "RZubqBqQUSHq"
      },
      "execution_count": null,
      "outputs": []
    },
    {
      "cell_type": "code",
      "execution_count": null,
      "metadata": {
        "id": "misFp6VVTmiw"
      },
      "outputs": [],
      "source": [
        "install=\n",
        "df"
      ]
    },
    {
      "cell_type": "code",
      "source": [
        "print(install)"
      ],
      "metadata": {
        "id": "aMM8KFekUUyU"
      },
      "execution_count": null,
      "outputs": []
    },
    {
      "cell_type": "code",
      "source": [
        "install.loc[install.SK_ID_CURR==161674].shape"
      ],
      "metadata": {
        "id": "gC9B3ieMUqN2"
      },
      "execution_count": null,
      "outputs": []
    },
    {
      "cell_type": "code",
      "source": [
        "install.head(10)"
      ],
      "metadata": {
        "id": "UTGFhOLKU2gD"
      },
      "execution_count": null,
      "outputs": []
    },
    {
      "cell_type": "code",
      "source": [
        "print(train.shape)\n",
        "print(len(train.SK_ID_CURR.unique()))"
      ],
      "metadata": {
        "id": "Favvry-9V6Qy"
      },
      "execution_count": null,
      "outputs": []
    },
    {
      "cell_type": "code",
      "source": [
        "pd.merge(train,previos,on=\"SK_ID_CURR\",how=\"outler\").shape"
      ],
      "metadata": {
        "id": "CbuuSf5PWOc_"
      },
      "execution_count": null,
      "outputs": []
    }
  ]
}