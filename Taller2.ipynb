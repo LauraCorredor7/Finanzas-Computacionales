{
  "nbformat": 4,
  "nbformat_minor": 0,
  "metadata": {
    "colab": {
      "provenance": [],
      "collapsed_sections": [],
      "include_colab_link": true
    },
    "kernelspec": {
      "name": "python3",
      "display_name": "Python 3"
    },
    "language_info": {
      "name": "python"
    }
  },
  "cells": [
    {
      "cell_type": "markdown",
      "metadata": {
        "id": "view-in-github",
        "colab_type": "text"
      },
      "source": [
        "<a href=\"https://colab.research.google.com/github/LauraCorredor7/Finanzas-Computacionales/blob/main/Taller2.ipynb\" target=\"_parent\"><img src=\"https://colab.research.google.com/assets/colab-badge.svg\" alt=\"Open In Colab\"/></a>"
      ]
    },
    {
      "cell_type": "code",
      "source": [
        "import numpy as np\n",
        "import pandas as pd\n",
        "!pip install yfinance\n",
        "import yfinance as yf\n",
        "import matplotlib.pyplot as plt\n",
        "from scipy.optimize import minimize\n",
        "from scipy.optimize import linprog\n",
        "import cvxpy  as cp"
      ],
      "metadata": {
        "id": "a6mnuiQuKkdM",
        "colab": {
          "base_uri": "https://localhost:8080/"
        },
        "outputId": "b8427c54-5c53-41b3-ac35-4a56fb0c9bc7"
      },
      "execution_count": 1,
      "outputs": [
        {
          "output_type": "stream",
          "name": "stdout",
          "text": [
            "Looking in indexes: https://pypi.org/simple, https://us-python.pkg.dev/colab-wheels/public/simple/\n",
            "Collecting yfinance\n",
            "  Downloading yfinance-0.1.74-py2.py3-none-any.whl (27 kB)\n",
            "Requirement already satisfied: lxml>=4.5.1 in /usr/local/lib/python3.7/dist-packages (from yfinance) (4.9.1)\n",
            "Collecting requests>=2.26\n",
            "  Downloading requests-2.28.1-py3-none-any.whl (62 kB)\n",
            "\u001b[K     |████████████████████████████████| 62 kB 1.1 MB/s \n",
            "\u001b[?25hRequirement already satisfied: numpy>=1.15 in /usr/local/lib/python3.7/dist-packages (from yfinance) (1.21.6)\n",
            "Requirement already satisfied: multitasking>=0.0.7 in /usr/local/lib/python3.7/dist-packages (from yfinance) (0.0.11)\n",
            "Requirement already satisfied: pandas>=0.24.0 in /usr/local/lib/python3.7/dist-packages (from yfinance) (1.3.5)\n",
            "Requirement already satisfied: python-dateutil>=2.7.3 in /usr/local/lib/python3.7/dist-packages (from pandas>=0.24.0->yfinance) (2.8.2)\n",
            "Requirement already satisfied: pytz>=2017.3 in /usr/local/lib/python3.7/dist-packages (from pandas>=0.24.0->yfinance) (2022.2.1)\n",
            "Requirement already satisfied: six>=1.5 in /usr/local/lib/python3.7/dist-packages (from python-dateutil>=2.7.3->pandas>=0.24.0->yfinance) (1.15.0)\n",
            "Requirement already satisfied: charset-normalizer<3,>=2 in /usr/local/lib/python3.7/dist-packages (from requests>=2.26->yfinance) (2.1.1)\n",
            "Requirement already satisfied: urllib3<1.27,>=1.21.1 in /usr/local/lib/python3.7/dist-packages (from requests>=2.26->yfinance) (1.24.3)\n",
            "Requirement already satisfied: certifi>=2017.4.17 in /usr/local/lib/python3.7/dist-packages (from requests>=2.26->yfinance) (2022.6.15)\n",
            "Requirement already satisfied: idna<4,>=2.5 in /usr/local/lib/python3.7/dist-packages (from requests>=2.26->yfinance) (2.10)\n",
            "Installing collected packages: requests, yfinance\n",
            "  Attempting uninstall: requests\n",
            "    Found existing installation: requests 2.23.0\n",
            "    Uninstalling requests-2.23.0:\n",
            "      Successfully uninstalled requests-2.23.0\n",
            "Successfully installed requests-2.28.1 yfinance-0.1.74\n"
          ]
        }
      ]
    },
    {
      "cell_type": "markdown",
      "source": [
        "1. Dibujar la región factible el siguiente problema de programación lineal (LP) con dos\n",
        "variables:\n",
        "\n",
        "            máx 2x1 − x2\n",
        "            x1 + x2 ≥ 1\n",
        "            x1 − x2 ≤ 0\n",
        "            3x1 + x2 ≤ 6\n",
        "            x1, x2 ≥ 0"
      ],
      "metadata": {
        "id": "ldG6eqiwGkIB"
      }
    },
    {
      "cell_type": "code",
      "execution_count": 3,
      "metadata": {
        "id": "jL9iBTGrGgoi",
        "colab": {
          "base_uri": "https://localhost:8080/"
        },
        "outputId": "ec3ad0c9-7fcd-40a9-fd41-b1140e833b2f"
      },
      "outputs": [
        {
          "output_type": "execute_result",
          "data": {
            "text/plain": [
              "     con: array([], dtype=float64)\n",
              "     fun: -0.5\n",
              " message: 'Optimization terminated successfully.'\n",
              "     nit: 2\n",
              "   slack: array([0., 0., 4.])\n",
              "  status: 0\n",
              " success: True\n",
              "       x: array([0.5, 0.5])"
            ]
          },
          "metadata": {},
          "execution_count": 3
        }
      ],
      "source": [
        "# Parametros de la función objetivo\n",
        "c1 = np.array([-2, 1])\n",
        "\n",
        "# Restricciones de desigualdad\n",
        "A1 = np.array([[1, 1], [1, -1], \n",
        "               [3, 1]])\n",
        "b1 = np.array([1, 0, 6])\n",
        "\n",
        "# Solución del problema\n",
        "res = linprog(c1, A_ub=A1, b_ub=b1, method='revised simplex')\n",
        "res"
      ]
    },
    {
      "cell_type": "code",
      "source": [
        "from matplotlib.patches import Polygon\n",
        "fig, ax = plt.subplots(figsize=(8, 6))\n",
        "ax.grid()\n",
        "\n",
        "# Draw constraint lines\n",
        "ax.hlines(0, -1, 6)\n",
        "ax.vlines(0, -1, 6)\n",
        "ax.plot(np.linspace(0, 2), 1-1*np.linspace(0, 2), color=\"c\")\n",
        "ax.plot(np.linspace(0, 4), 0+1*np.linspace(0, 4), color=\"c\")\n",
        "ax.plot(np.linspace(0, 2), 6-3*np.linspace(0, 2), color=\"c\")\n",
        "\n",
        "# Draw the feasible region\n",
        "feasible_set = Polygon(np.array([[0.5, 0.5], \n",
        "                                 [1.5, 1.5], \n",
        "                                 [2, 0], \n",
        "                                 [1,0]]), \n",
        "                       color=\"cyan\")\n",
        "ax.add_patch(feasible_set)\n",
        "\n",
        "# Draw the objective function\n",
        "ax.plot(np.linspace(0, 2), 0+1*np.linspace(0, 2), color=\"orange\")\n",
        "#ax.arrow(-1.6, 1.5, 0, 0.5, width = 0.05, head_width=0.2, head_length=0.5, color=\"orange\")\n",
        "\n",
        "\n",
        "# Draw the optimal solution\n",
        "ax.plot(0.5, 0.5, \"*\", color=\"black\")\n",
        "ax.text(-1, 1, \"Optimal Solution\", size=12)\n",
        "\n",
        "plt.show()"
      ],
      "metadata": {
        "colab": {
          "base_uri": "https://localhost:8080/",
          "height": 374
        },
        "id": "_mQGl7KxqN58",
        "outputId": "c5970a86-6050-4298-d4fe-69bd00ad1a91"
      },
      "execution_count": 12,
      "outputs": [
        {
          "output_type": "display_data",
          "data": {
            "text/plain": [
              "<Figure size 576x432 with 1 Axes>"
            ],
            "image/png": "[encoded data removed]"
          },
          "metadata": {
            "needs_background": "light"
          }
        }
      ]
    },
    {
      "cell_type": "markdown",
      "source": [
        "2. Usted desea invertir la suma de $80 millones en cuatro fondos mutuos que tienen diferentes retornos esperados (E(Ri)), así como diferentes ponderaciones en acciones de capitalización grande, mediana y pequeña, como muestra la siguiente tabla:"
      ],
      "metadata": {
        "id": "ZyJCharFPucT"
      }
    },
    {
      "cell_type": "code",
      "source": [
        "c = np.array([0.1,0.15,0.16,0.08])\n",
        "A = np.array([[1,1,1,1]])\n",
        "b = np.array([80]) \n",
        "D = np.array([[0.5,0.3,0.25,0.6],\n",
        "              [0.3,0.1,0.4,0.2],\n",
        "              [0.2,0.6,0.35,0.2]])\n",
        "d = np.array([28,24,12])#Restricción\n",
        "\n",
        "resultado = linprog(-c,A_ub=-D,b_ub=-d,A_eq=A,b_eq=b,method=\"simplex\")\n",
        "resultado\n",
        "#x.value"
      ],
      "metadata": {
        "id": "vYKsrtLWP4sc",
        "colab": {
          "base_uri": "https://localhost:8080/"
        },
        "outputId": "49ce37ab-d03e-4561-a308-146d878bae80"
      },
      "execution_count": 18,
      "outputs": [
        {
          "output_type": "execute_result",
          "data": {
            "text/plain": [
              "array([1.57371307e-07, 1.26315784e+01, 4.63157899e+01, 2.10526315e+01])"
            ]
          },
          "metadata": {},
          "execution_count": 18
        }
      ]
    },
    {
      "cell_type": "code",
      "source": [
        "#CVXPY\n",
        "n = len(c) # de elementos que requiere el vector c\n",
        "x = cp.Variable(n)\n",
        "\n",
        "objective =cp.Maximize((c.T @ x))\n",
        "constraints = [D @ x >= d, A @ x == b, x>=0]\n",
        "prob = cp.Problem(objective, constraints)\n",
        "\n",
        "result=prob.solve()\n",
        "sol = round(pd.DataFrame(x.value),6)\n",
        "sol"
      ],
      "metadata": {
        "id": "hhfqlbiYTgAS",
        "colab": {
          "base_uri": "https://localhost:8080/",
          "height": 175
        },
        "outputId": "ab24c87f-f7e7-41ad-8a97-460cb7441549"
      },
      "execution_count": 14,
      "outputs": [
        {
          "output_type": "execute_result",
          "data": {
            "text/plain": [
              "           0\n",
              "0   0.000000\n",
              "1  12.631578\n",
              "2  46.315790\n",
              "3  21.052632"
            ],
            "text/html": [
              "\n",
              "  <div id=\"df-ca061018-fdd3-46a5-bae3-9ee7d9f9d0fc\">\n",
              "    <div class=\"colab-df-container\">\n",
              "      <div>\n",
              "<style scoped>\n",
              "    .dataframe tbody tr th:only-of-type {\n",
              "        vertical-align: middle;\n",
              "    }\n",
              "\n",
              "    .dataframe tbody tr th {\n",
              "        vertical-align: top;\n",
              "    }\n",
              "\n",
              "    .dataframe thead th {\n",
              "        text-align: right;\n",
              "    }\n",
              "</style>\n",
              "<table border=\"1\" class=\"dataframe\">\n",
              "  <thead>\n",
              "    <tr style=\"text-align: right;\">\n",
              "      <th></th>\n",
              "      <th>0</th>\n",
              "    </tr>\n",
              "  </thead>\n",
              "  <tbody>\n",
              "    <tr>\n",
              "      <th>0</th>\n",
              "      <td>0.000000</td>\n",
              "    </tr>\n",
              "    <tr>\n",
              "      <th>1</th>\n",
              "      <td>12.631578</td>\n",
              "    </tr>\n",
              "    <tr>\n",
              "      <th>2</th>\n",
              "      <td>46.315790</td>\n",
              "    </tr>\n",
              "    <tr>\n",
              "      <th>3</th>\n",
              "      <td>21.052632</td>\n",
              "    </tr>\n",
              "  </tbody>\n",
              "</table>\n",
              "</div>\n",
              "      <button class=\"colab-df-convert\" onclick=\"convertToInteractive('df-ca061018-fdd3-46a5-bae3-9ee7d9f9d0fc')\"\n",
              "              title=\"Convert this dataframe to an interactive table.\"\n",
              "              style=\"display:none;\">\n",
              "        \n",
              "  <svg xmlns=\"http://www.w3.org/2000/svg\" height=\"24px\"viewBox=\"0 0 24 24\"\n",
              "       width=\"24px\">\n",
              "    <path d=\"M0 0h24v24H0V0z\" fill=\"none\"/>\n",
              "    <path d=\"M18.56 5.44l.94 2.06.94-2.06 2.06-.94-2.06-.94-.94-2.06-.94 2.06-2.06.94zm-11 1L8.5 8.5l.94-2.06 2.06-.94-2.06-.94L8.5 2.5l-.94 2.06-2.06.94zm10 10l.94 2.06.94-2.06 2.06-.94-2.06-.94-.94-2.06-.94 2.06-2.06.94z\"/><path d=\"M17.41 7.96l-1.37-1.37c-.4-.4-.92-.59-1.43-.59-.52 0-1.04.2-1.43.59L10.3 9.45l-7.72 7.72c-.78.78-.78 2.05 0 2.83L4 21.41c.39.39.9.59 1.41.59.51 0 1.02-.2 1.41-.59l7.78-7.78 2.81-2.81c.8-.78.8-2.07 0-2.86zM5.41 20L4 18.59l7.72-7.72 1.47 1.35L5.41 20z\"/>\n",
              "  </svg>\n",
              "      </button>\n",
              "      \n",
              "  <style>\n",
              "    .colab-df-container {\n",
              "      display:flex;\n",
              "      flex-wrap:wrap;\n",
              "      gap: 12px;\n",
              "    }\n",
              "\n",
              "    .colab-df-convert {\n",
              "      background-color: #E8F0FE;\n",
              "      border: none;\n",
              "      border-radius: 50%;\n",
              "      cursor: pointer;\n",
              "      display: none;\n",
              "      fill: #1967D2;\n",
              "      height: 32px;\n",
              "      padding: 0 0 0 0;\n",
              "      width: 32px;\n",
              "    }\n",
              "\n",
              "    .colab-df-convert:hover {\n",
              "      background-color: #E2EBFA;\n",
              "      box-shadow: 0px 1px 2px rgba(60, 64, 67, 0.3), 0px 1px 3px 1px rgba(60, 64, 67, 0.15);\n",
              "      fill: #174EA6;\n",
              "    }\n",
              "\n",
              "    [theme=dark] .colab-df-convert {\n",
              "      background-color: #3B4455;\n",
              "      fill: #D2E3FC;\n",
              "    }\n",
              "\n",
              "    [theme=dark] .colab-df-convert:hover {\n",
              "      background-color: #434B5C;\n",
              "      box-shadow: 0px 1px 3px 1px rgba(0, 0, 0, 0.15);\n",
              "      filter: drop-shadow(0px 1px 2px rgba(0, 0, 0, 0.3));\n",
              "      fill: #FFFFFF;\n",
              "    }\n",
              "  </style>\n",
              "\n",
              "      <script>\n",
              "        const buttonEl =\n",
              "          document.querySelector('#df-ca061018-fdd3-46a5-bae3-9ee7d9f9d0fc button.colab-df-convert');\n",
              "        buttonEl.style.display =\n",
              "          google.colab.kernel.accessAllowed ? 'block' : 'none';\n",
              "\n",
              "        async function convertToInteractive(key) {\n",
              "          const element = document.querySelector('#df-ca061018-fdd3-46a5-bae3-9ee7d9f9d0fc');\n",
              "          const dataTable =\n",
              "            await google.colab.kernel.invokeFunction('convertToInteractive',\n",
              "                                                     [key], {});\n",
              "          if (!dataTable) return;\n",
              "\n",
              "          const docLinkHtml = 'Like what you see? Visit the ' +\n",
              "            '<a target=\"_blank\" href=https://colab.research.google.com/notebooks/data_table.ipynb>data table notebook</a>'\n",
              "            + ' to learn more about interactive tables.';\n",
              "          element.innerHTML = '';\n",
              "          dataTable['output_type'] = 'display_data';\n",
              "          await google.colab.output.renderOutput(dataTable, element);\n",
              "          const docLink = document.createElement('div');\n",
              "          docLink.innerHTML = docLinkHtml;\n",
              "          element.appendChild(docLink);\n",
              "        }\n",
              "      </script>\n",
              "    </div>\n",
              "  </div>\n",
              "  "
            ]
          },
          "metadata": {},
          "execution_count": 14
        }
      ]
    },
    {
      "cell_type": "markdown",
      "source": [
        "La asignación factible "
      ],
      "metadata": {
        "id": "2axpKwQ0nQLp"
      }
    },
    {
      "cell_type": "markdown",
      "source": [
        "3. La empresa XYZ se enfrente al siguiente problema de financiación a corto plazo. Las cifras están expresadas en millones ($)."
      ],
      "metadata": {
        "id": "Zrt0FS9cabPC"
      }
    },
    {
      "cell_type": "code",
      "source": [
        "b = np.array([150,100,-200,200,-50,-300])\n",
        "c = np.array([0,0,0,0,0,0,0,0,0,0,0,0,0,1])#Función objetivo\n",
        "rx = np.array([1.01])#Tasa de crédito\n",
        "ry = np.array([1.02])#Tasa de bono\n",
        "rz = np.array([1.003])#Tasa excedente\n",
        "A = np.array([[1,0,0,0,0, 1,0,0, -1,0,0,0,0,0],\n",
        "              [-rx,1,0,0,0, 0,1,0, rz,-1,0,0,0,0],\n",
        "              [0,-rx,1,0,0, 0,0,1, 0,rz,-1,0,0,0],\n",
        "              [0,0,-rx,1,0, -ry,0,0, 0,0,rz,-1,0,0],\n",
        "              [0,0,0,-rx,1, 0,-ry,0, 0,0,0,rz,-1,0],\n",
        "              [0,0,0,0,-rx, 0,0,-ry, 0,0,0,0,rz,-1]])"
      ],
      "metadata": {
        "id": "Y_JFwo0tjEbS",
        "colab": {
          "base_uri": "https://localhost:8080/"
        },
        "outputId": "982d5fe5-a61a-4295-b44d-eace680b800f"
      },
      "execution_count": null,
      "outputs": [
        {
          "output_type": "stream",
          "name": "stderr",
          "text": [
            "/usr/local/lib/python3.7/dist-packages/ipykernel_launcher.py:11: VisibleDeprecationWarning: Creating an ndarray from ragged nested sequences (which is a list-or-tuple of lists-or-tuples-or ndarrays with different lengths or shapes) is deprecated. If you meant to do this, you must specify 'dtype=object' when creating the ndarray.\n",
            "  # This is added back by InteractiveShellApp.init_path()\n"
          ]
        }
      ]
    },
    {
      "cell_type": "code",
      "source": [
        "n = len(c) # de elementos que requiere el vector c\n",
        "x = cp.Variable(n)\n",
        "\n",
        "objective =cp.Maximize((c.T @ x))\n",
        "constraints = [A @ x == b, x>=0]\n",
        "prob = cp.Problem(objective, constraints)\n",
        "\n",
        "result=prob.solve()\n",
        "sol = round(pd.DataFrame(x.value),6)\n",
        "sol"
      ],
      "metadata": {
        "colab": {
          "base_uri": "https://localhost:8080/",
          "height": 552
        },
        "id": "QbVvbOD4aZp9",
        "outputId": "5085d58b-4a06-4ab5-af27-005090b5116c"
      },
      "execution_count": null,
      "outputs": [
        {
          "output_type": "execute_result",
          "data": {
            "text/plain": [
              "             0\n",
              "0     0.000001\n",
              "1    42.686747\n",
              "2     0.000000\n",
              "3     0.000000\n",
              "4     8.459517\n",
              "5   150.000000\n",
              "6    57.313253\n",
              "7   195.057783\n",
              "8     0.000001\n",
              "9     0.000000\n",
              "10  351.944169\n",
              "11    0.000001\n",
              "12    0.000000\n",
              "13   92.496949"
            ],
            "text/html": [
              "\n",
              "  <div id=\"df-549b9ad7-580f-4767-923d-802bd3b720ee\">\n",
              "    <div class=\"colab-df-container\">\n",
              "      <div>\n",
              "<style scoped>\n",
              "    .dataframe tbody tr th:only-of-type {\n",
              "        vertical-align: middle;\n",
              "    }\n",
              "\n",
              "    .dataframe tbody tr th {\n",
              "        vertical-align: top;\n",
              "    }\n",
              "\n",
              "    .dataframe thead th {\n",
              "        text-align: right;\n",
              "    }\n",
              "</style>\n",
              "<table border=\"1\" class=\"dataframe\">\n",
              "  <thead>\n",
              "    <tr style=\"text-align: right;\">\n",
              "      <th></th>\n",
              "      <th>0</th>\n",
              "    </tr>\n",
              "  </thead>\n",
              "  <tbody>\n",
              "    <tr>\n",
              "      <th>0</th>\n",
              "      <td>0.000001</td>\n",
              "    </tr>\n",
              "    <tr>\n",
              "      <th>1</th>\n",
              "      <td>42.686747</td>\n",
              "    </tr>\n",
              "    <tr>\n",
              "      <th>2</th>\n",
              "      <td>0.000000</td>\n",
              "    </tr>\n",
              "    <tr>\n",
              "      <th>3</th>\n",
              "      <td>0.000000</td>\n",
              "    </tr>\n",
              "    <tr>\n",
              "      <th>4</th>\n",
              "      <td>8.459517</td>\n",
              "    </tr>\n",
              "    <tr>\n",
              "      <th>5</th>\n",
              "      <td>150.000000</td>\n",
              "    </tr>\n",
              "    <tr>\n",
              "      <th>6</th>\n",
              "      <td>57.313253</td>\n",
              "    </tr>\n",
              "    <tr>\n",
              "      <th>7</th>\n",
              "      <td>195.057783</td>\n",
              "    </tr>\n",
              "    <tr>\n",
              "      <th>8</th>\n",
              "      <td>0.000001</td>\n",
              "    </tr>\n",
              "    <tr>\n",
              "      <th>9</th>\n",
              "      <td>0.000000</td>\n",
              "    </tr>\n",
              "    <tr>\n",
              "      <th>10</th>\n",
              "      <td>351.944169</td>\n",
              "    </tr>\n",
              "    <tr>\n",
              "      <th>11</th>\n",
              "      <td>0.000001</td>\n",
              "    </tr>\n",
              "    <tr>\n",
              "      <th>12</th>\n",
              "      <td>0.000000</td>\n",
              "    </tr>\n",
              "    <tr>\n",
              "      <th>13</th>\n",
              "      <td>92.496949</td>\n",
              "    </tr>\n",
              "  </tbody>\n",
              "</table>\n",
              "</div>\n",
              "      <button class=\"colab-df-convert\" onclick=\"convertToInteractive('df-549b9ad7-580f-4767-923d-802bd3b720ee')\"\n",
              "              title=\"Convert this dataframe to an interactive table.\"\n",
              "              style=\"display:none;\">\n",
              "        \n",
              "  <svg xmlns=\"http://www.w3.org/2000/svg\" height=\"24px\"viewBox=\"0 0 24 24\"\n",
              "       width=\"24px\">\n",
              "    <path d=\"M0 0h24v24H0V0z\" fill=\"none\"/>\n",
              "    <path d=\"M18.56 5.44l.94 2.06.94-2.06 2.06-.94-2.06-.94-.94-2.06-.94 2.06-2.06.94zm-11 1L8.5 8.5l.94-2.06 2.06-.94-2.06-.94L8.5 2.5l-.94 2.06-2.06.94zm10 10l.94 2.06.94-2.06 2.06-.94-2.06-.94-.94-2.06-.94 2.06-2.06.94z\"/><path d=\"M17.41 7.96l-1.37-1.37c-.4-.4-.92-.59-1.43-.59-.52 0-1.04.2-1.43.59L10.3 9.45l-7.72 7.72c-.78.78-.78 2.05 0 2.83L4 21.41c.39.39.9.59 1.41.59.51 0 1.02-.2 1.41-.59l7.78-7.78 2.81-2.81c.8-.78.8-2.07 0-2.86zM5.41 20L4 18.59l7.72-7.72 1.47 1.35L5.41 20z\"/>\n",
              "  </svg>\n",
              "      </button>\n",
              "      \n",
              "  <style>\n",
              "    .colab-df-container {\n",
              "      display:flex;\n",
              "      flex-wrap:wrap;\n",
              "      gap: 12px;\n",
              "    }\n",
              "\n",
              "    .colab-df-convert {\n",
              "      background-color: #E8F0FE;\n",
              "      border: none;\n",
              "      border-radius: 50%;\n",
              "      cursor: pointer;\n",
              "      display: none;\n",
              "      fill: #1967D2;\n",
              "      height: 32px;\n",
              "      padding: 0 0 0 0;\n",
              "      width: 32px;\n",
              "    }\n",
              "\n",
              "    .colab-df-convert:hover {\n",
              "      background-color: #E2EBFA;\n",
              "      box-shadow: 0px 1px 2px rgba(60, 64, 67, 0.3), 0px 1px 3px 1px rgba(60, 64, 67, 0.15);\n",
              "      fill: #174EA6;\n",
              "    }\n",
              "\n",
              "    [theme=dark] .colab-df-convert {\n",
              "      background-color: #3B4455;\n",
              "      fill: #D2E3FC;\n",
              "    }\n",
              "\n",
              "    [theme=dark] .colab-df-convert:hover {\n",
              "      background-color: #434B5C;\n",
              "      box-shadow: 0px 1px 3px 1px rgba(0, 0, 0, 0.15);\n",
              "      filter: drop-shadow(0px 1px 2px rgba(0, 0, 0, 0.3));\n",
              "      fill: #FFFFFF;\n",
              "    }\n",
              "  </style>\n",
              "\n",
              "      <script>\n",
              "        const buttonEl =\n",
              "          document.querySelector('#df-549b9ad7-580f-4767-923d-802bd3b720ee button.colab-df-convert');\n",
              "        buttonEl.style.display =\n",
              "          google.colab.kernel.accessAllowed ? 'block' : 'none';\n",
              "\n",
              "        async function convertToInteractive(key) {\n",
              "          const element = document.querySelector('#df-549b9ad7-580f-4767-923d-802bd3b720ee');\n",
              "          const dataTable =\n",
              "            await google.colab.kernel.invokeFunction('convertToInteractive',\n",
              "                                                     [key], {});\n",
              "          if (!dataTable) return;\n",
              "\n",
              "          const docLinkHtml = 'Like what you see? Visit the ' +\n",
              "            '<a target=\"_blank\" href=https://colab.research.google.com/notebooks/data_table.ipynb>data table notebook</a>'\n",
              "            + ' to learn more about interactive tables.';\n",
              "          element.innerHTML = '';\n",
              "          dataTable['output_type'] = 'display_data';\n",
              "          await google.colab.output.renderOutput(dataTable, element);\n",
              "          const docLink = document.createElement('div');\n",
              "          docLink.innerHTML = docLinkHtml;\n",
              "          element.appendChild(docLink);\n",
              "        }\n",
              "      </script>\n",
              "    </div>\n",
              "  </div>\n",
              "  "
            ]
          },
          "metadata": {},
          "execution_count": 7
        }
      ]
    },
    {
      "cell_type": "markdown",
      "source": [
        "#4. Para las variables aleatorias, xi y yi con i = 1,2, ... , N; demuestre que el vector de coeficientes β del modelo lineal y = β̂TX + ε,"
      ],
      "metadata": {
        "id": "akau2GkYV9K0"
      }
    },
    {
      "cell_type": "code",
      "source": [
        "## Estimaciones para AAPL\n",
        "# Información histórica para AAPL \n",
        "fechai = \"2017-08-01\"\n",
        "fechaf = \"2022-08-31\"\n",
        "periodicidad = \"1Mo\"\n",
        "aapl = [\"AAPL\"]\n",
        "p_aapl = yf.download(aapl,start=fechai,end=fechaf,interval=periodicidad)['Adj Close'].dropna()\n",
        "r_aapl = np.log(p_aapl/p_aapl.shift(1)).dropna()\n",
        "\n",
        "indice = yf.download(\"^GSPC\",start=fechai,end=fechaf,interval=periodicidad)['Adj Close'].dropna()\n",
        "r_indice = np.log(indice/indice.shift(1)).dropna()\n",
        "\n",
        "\n",
        "r_aapl.shape"
      ],
      "metadata": {
        "id": "0PYu8L7j0b5v",
        "colab": {
          "base_uri": "https://localhost:8080/"
        },
        "outputId": "2a4d841d-4716-4bc9-f045-62f57077eb18"
      },
      "execution_count": null,
      "outputs": [
        {
          "output_type": "stream",
          "name": "stdout",
          "text": [
            "[*********************100%***********************]  1 of 1 completed\n",
            "[*********************100%***********************]  1 of 1 completed\n"
          ]
        },
        {
          "output_type": "execute_result",
          "data": {
            "text/plain": [
              "(60,)"
            ]
          },
          "metadata": {},
          "execution_count": 8
        }
      ]
    },
    {
      "cell_type": "code",
      "source": [
        "#regresion con  Usando SkLearn\n",
        "from sklearn.linear_model import LinearRegression\n",
        "lm = LinearRegression()\n",
        "model = lm.fit(pd.DataFrame(r_indice), pd.DataFrame(r_aapl))\n",
        "print(f'alpha = {model.intercept_}')\n",
        "print(f'betas = {model.coef_}')\n",
        "# encontramos el resultado segun el modelo lineal y = β̂TX + ε"
      ],
      "metadata": {
        "id": "mE4Qa2WZ0e22",
        "colab": {
          "base_uri": "https://localhost:8080/"
        },
        "outputId": "47ff8277-6372-4613-a2f6-86723cb64e87"
      },
      "execution_count": null,
      "outputs": [
        {
          "output_type": "stream",
          "name": "stdout",
          "text": [
            "alpha = [0.01389624]\n",
            "betas = [[1.2021161]]\n"
          ]
        }
      ]
    },
    {
      "cell_type": "code",
      "source": [
        "from numpy.core.fromnumeric import transpose\n",
        "# Variables\n",
        " \n",
        "t = len(r_indice) # se cuentan cuantos datos existe\n",
        "unos = pd.DataFrame(np.repeat(1,t))# se crea un vector de unos\n",
        "r_indice2 = pd.DataFrame(r_indice)\n",
        "r_aapl2 = pd.DataFrame(r_aapl)\n",
        "\n",
        "variables = np.concatenate((unos,r_indice2),1) # se multiplica las X por un vector de unos\n",
        "X_T = transpose(variables) # se traspone la variable para hacer la formula  Q = (X^T*X)^−1\n",
        "X=variables\n",
        "\n",
        "Q=np.dot(X_T,X)# se multiplica las dos matrices X.T y X  para encontrar Q = (X^T*X)^−1\n",
        "Y=r_aapl \n",
        "X_T = transpose(variables)\n",
        "b=np.dot(X_T,Y)# se multiplica las amtrices para encontrar b = X^T*y.\n",
        "\n",
        "B= np.linalg.solve(Q,b) # se crea la matriz inversa \n",
        "B  # encontramos que el resultado de β̂ = Q^−1*b es la misma  que el modelo y = β̂TX + ε\n"
      ],
      "metadata": {
        "id": "v1F1Q4bD0hVM",
        "colab": {
          "base_uri": "https://localhost:8080/"
        },
        "outputId": "5e8733ad-0896-4f7a-8039-3c7164a8c78d"
      },
      "execution_count": null,
      "outputs": [
        {
          "output_type": "execute_result",
          "data": {
            "text/plain": [
              "array([0.01389624, 1.2021161 ])"
            ]
          },
          "metadata": {},
          "execution_count": 10
        }
      ]
    },
    {
      "cell_type": "markdown",
      "source": [
        "5. Un fondo de pensiones necesita cubrir algunos pasivos en los próximos seis años según\n",
        "los siguientes requerimientos de efectivo (cifras en millones $):"
      ],
      "metadata": {
        "id": "GgXE5WtdauQY"
      }
    },
    {
      "cell_type": "code",
      "source": [
        "b = np.array([100,200,800,100,800,1200])\n",
        "\n",
        "A = np.array([[10,7,8,6,7,5,10,8,7,100,-1,0,0,0,0,0],\n",
        "              [10,7,8,6,7,5,10,8,107,0,0,-1,0,0,0,0],\n",
        "              [10,7,8,6,7,5,110,108,0,0,0,0,-1,0,0,0],\n",
        "              [10,7,8,6,7,105,0,0,0,0,0,0,0,-1,0,0],\n",
        "              [10,7,8,106,107,0,0,0,0,0,0,0,0,0,-1,0],\n",
        "              [10,107,108,0,0,0,0,0,0,0,0,0,0,0,0,-1]])\n",
        "\n",
        "d = np.array([109,94.8,99.5,93.1,97.2,92.9,110,104,102,95.2,0,0,0,0,0,0])\n",
        "limits=[(0,float('inf')) for x in range(len(d))]\n",
        "resultado = linprog(d,A_eq=A,b_eq=b,bounds=limits,method= \"simplex\")\n",
        "resultado"
      ],
      "metadata": {
        "id": "KBhnn7Ya0lE4",
        "colab": {
          "base_uri": "https://localhost:8080/"
        },
        "outputId": "33539278-3140-4692-f174-317a62e5fc4a"
      },
      "execution_count": 21,
      "outputs": [
        {
          "output_type": "execute_result",
          "data": {
            "text/plain": [
              "     con: array([-2.84217094e-14,  0.00000000e+00,  0.00000000e+00,  0.00000000e+00,\n",
              "        0.00000000e+00,  0.00000000e+00])\n",
              "     fun: 2381.1388298203824\n",
              " message: 'Optimization terminated successfully.'\n",
              "     nit: 10\n",
              "   slack: array([], dtype=float64)\n",
              "  status: 0\n",
              " success: True\n",
              "       x: array([ 0.        , 11.21495327,  0.        ,  6.80655969,  0.        ,\n",
              "        0.        ,  0.        ,  6.30237008,  0.28258886,  0.        ,\n",
              "       71.74111374,  0.        ,  0.        , 19.34403104,  0.        ,\n",
              "        0.        ])"
            ]
          },
          "metadata": {},
          "execution_count": 21
        }
      ]
    }
  ]
}